{
 "cells": [
  {
   "cell_type": "markdown",
   "metadata": {},
   "source": [
    "# Care plans\n",
    "\n",
    "Care plans are used by staff to keep track of both current and planned procedures for the patient. Care plans are documented in five tables: carePlanCareProvider, carePlanEOL, carePlanGeneral, carePlanGoal, and carePlanInfectiousDisease."
   ]
  },
  {
   "cell_type": "code",
   "execution_count": 2,
   "metadata": {},
   "outputs": [
    {
     "name": "stderr",
     "output_type": "stream",
     "text": [
      "/home/alistairewj/.local/lib/python3.5/site-packages/psycopg2/__init__.py:144: UserWarning: The psycopg2 wheel package will be renamed from release 2.8; in order to keep installing from binary please use \"pip install psycopg2-binary\" instead. For details see: <http://initd.org/psycopg/docs/install.html#binary-install-from-pypi>.\n",
      "  \"\"\")\n"
     ]
    }
   ],
   "source": [
    "# Import libraries\n",
    "import numpy as np\n",
    "import pandas as pd\n",
    "import matplotlib.pyplot as plt\n",
    "import psycopg2\n",
    "import getpass\n",
    "\n",
    "# for configuring connection \n",
    "from configobj import ConfigObj\n",
    "import os\n",
    "\n",
    "%matplotlib inline"
   ]
  },
  {
   "cell_type": "code",
   "execution_count": 3,
   "metadata": {},
   "outputs": [
    {
     "name": "stdout",
     "output_type": "stream",
     "text": [
      "Database: eicu\n",
      "Username: alistairewj\n"
     ]
    }
   ],
   "source": [
    "# Create a database connection using settings from config file\n",
    "config='../db/config.ini'\n",
    "\n",
    "# connection info\n",
    "conn_info = dict()\n",
    "if os.path.isfile(config):\n",
    "    config = ConfigObj(config)\n",
    "    conn_info[\"sqluser\"] = config['username']\n",
    "    conn_info[\"sqlpass\"] = config['password']\n",
    "    conn_info[\"sqlhost\"] = config['host']\n",
    "    conn_info[\"sqlport\"] = config['port']\n",
    "    conn_info[\"dbname\"] = config['dbname']\n",
    "    conn_info[\"schema_name\"] = config['schema_name']\n",
    "else:\n",
    "    conn_info[\"sqluser\"] = 'postgres'\n",
    "    conn_info[\"sqlpass\"] = ''\n",
    "    conn_info[\"sqlhost\"] = 'localhost'\n",
    "    conn_info[\"sqlport\"] = 5432\n",
    "    conn_info[\"dbname\"] = 'eicu'\n",
    "    conn_info[\"schema_name\"] = 'public,eicu_crd'\n",
    "    \n",
    "# Connect to the eICU database\n",
    "print('Database: {}'.format(conn_info['dbname']))\n",
    "print('Username: {}'.format(conn_info[\"sqluser\"]))\n",
    "if conn_info[\"sqlpass\"] == '':\n",
    "    # try connecting without password, i.e. peer or OS authentication\n",
    "    try:\n",
    "        if (conn_info[\"sqlhost\"] == 'localhost') & (conn_info[\"sqlport\"]=='5432'):\n",
    "            con = psycopg2.connect(dbname=conn_info[\"dbname\"],\n",
    "                                   user=conn_info[\"sqluser\"])            \n",
    "        else:\n",
    "            con = psycopg2.connect(dbname=conn_info[\"dbname\"],\n",
    "                                   host=conn_info[\"sqlhost\"],\n",
    "                                   port=conn_info[\"sqlport\"],\n",
    "                                   user=conn_info[\"sqluser\"])\n",
    "    except:\n",
    "        conn_info[\"sqlpass\"] = getpass.getpass('Password: ')\n",
    "\n",
    "        con = psycopg2.connect(dbname=conn_info[\"dbname\"],\n",
    "                               host=conn_info[\"sqlhost\"],\n",
    "                               port=conn_info[\"sqlport\"],\n",
    "                               user=conn_info[\"sqluser\"],\n",
    "                               password=conn_info[\"sqlpass\"])\n",
    "query_schema = 'set search_path to ' + conn_info['schema_name'] + ';'"
   ]
  },
  {
   "cell_type": "markdown",
   "metadata": {},
   "source": [
    "## Summarize data available in each table"
   ]
  },
  {
   "cell_type": "markdown",
   "metadata": {},
   "source": [
    "## Examine data for one patient"
   ]
  },
  {
   "cell_type": "markdown",
   "metadata": {},
   "source": [
    "## Hospitals with data available"
   ]
  },
  {
   "cell_type": "code",
   "execution_count": 5,
   "metadata": {},
   "outputs": [
    {
     "data": {
      "text/html": [
       "<div>\n",
       "<style scoped>\n",
       "    .dataframe tbody tr th:only-of-type {\n",
       "        vertical-align: middle;\n",
       "    }\n",
       "\n",
       "    .dataframe tbody tr th {\n",
       "        vertical-align: top;\n",
       "    }\n",
       "\n",
       "    .dataframe thead th {\n",
       "        text-align: right;\n",
       "    }\n",
       "</style>\n",
       "<table border=\"1\" class=\"dataframe\">\n",
       "  <thead>\n",
       "    <tr style=\"text-align: right;\">\n",
       "      <th></th>\n",
       "      <th>hospitalid</th>\n",
       "      <th>number_of_patients</th>\n",
       "      <th>n_cpc</th>\n",
       "      <th>n_cpeol</th>\n",
       "      <th>n_cpge</th>\n",
       "      <th>n_cpgo</th>\n",
       "      <th>n_cpid</th>\n",
       "    </tr>\n",
       "  </thead>\n",
       "  <tbody>\n",
       "    <tr>\n",
       "      <th>11</th>\n",
       "      <td>73</td>\n",
       "      <td>7059</td>\n",
       "      <td>86.669500</td>\n",
       "      <td>0.000000</td>\n",
       "      <td>99.065023</td>\n",
       "      <td>0.000000</td>\n",
       "      <td>0.000000</td>\n",
       "    </tr>\n",
       "    <tr>\n",
       "      <th>54</th>\n",
       "      <td>167</td>\n",
       "      <td>6092</td>\n",
       "      <td>52.954695</td>\n",
       "      <td>0.082075</td>\n",
       "      <td>99.753775</td>\n",
       "      <td>0.000000</td>\n",
       "      <td>0.016415</td>\n",
       "    </tr>\n",
       "    <tr>\n",
       "      <th>106</th>\n",
       "      <td>264</td>\n",
       "      <td>5237</td>\n",
       "      <td>96.429253</td>\n",
       "      <td>0.038190</td>\n",
       "      <td>98.644262</td>\n",
       "      <td>0.000000</td>\n",
       "      <td>0.000000</td>\n",
       "    </tr>\n",
       "    <tr>\n",
       "      <th>184</th>\n",
       "      <td>420</td>\n",
       "      <td>4679</td>\n",
       "      <td>99.251977</td>\n",
       "      <td>3.483650</td>\n",
       "      <td>96.281257</td>\n",
       "      <td>91.194700</td>\n",
       "      <td>1.816627</td>\n",
       "    </tr>\n",
       "    <tr>\n",
       "      <th>58</th>\n",
       "      <td>176</td>\n",
       "      <td>4328</td>\n",
       "      <td>52.356747</td>\n",
       "      <td>0.023105</td>\n",
       "      <td>99.745841</td>\n",
       "      <td>0.000000</td>\n",
       "      <td>0.000000</td>\n",
       "    </tr>\n",
       "    <tr>\n",
       "      <th>134</th>\n",
       "      <td>338</td>\n",
       "      <td>4277</td>\n",
       "      <td>97.685293</td>\n",
       "      <td>0.023381</td>\n",
       "      <td>99.415478</td>\n",
       "      <td>0.140285</td>\n",
       "      <td>0.023381</td>\n",
       "    </tr>\n",
       "    <tr>\n",
       "      <th>90</th>\n",
       "      <td>243</td>\n",
       "      <td>4243</td>\n",
       "      <td>97.784586</td>\n",
       "      <td>0.400660</td>\n",
       "      <td>97.407495</td>\n",
       "      <td>3.676644</td>\n",
       "      <td>5.467829</td>\n",
       "    </tr>\n",
       "    <tr>\n",
       "      <th>71</th>\n",
       "      <td>199</td>\n",
       "      <td>4240</td>\n",
       "      <td>91.910377</td>\n",
       "      <td>0.259434</td>\n",
       "      <td>95.353774</td>\n",
       "      <td>0.306604</td>\n",
       "      <td>0.141509</td>\n",
       "    </tr>\n",
       "    <tr>\n",
       "      <th>206</th>\n",
       "      <td>458</td>\n",
       "      <td>3701</td>\n",
       "      <td>98.324777</td>\n",
       "      <td>0.000000</td>\n",
       "      <td>99.000270</td>\n",
       "      <td>0.027020</td>\n",
       "      <td>0.000000</td>\n",
       "    </tr>\n",
       "    <tr>\n",
       "      <th>200</th>\n",
       "      <td>443</td>\n",
       "      <td>3656</td>\n",
       "      <td>92.970460</td>\n",
       "      <td>0.000000</td>\n",
       "      <td>99.234136</td>\n",
       "      <td>0.000000</td>\n",
       "      <td>0.000000</td>\n",
       "    </tr>\n",
       "  </tbody>\n",
       "</table>\n",
       "</div>"
      ],
      "text/plain": [
       "     hospitalid  number_of_patients      n_cpc   n_cpeol     n_cpge  \\\n",
       "11           73                7059  86.669500  0.000000  99.065023   \n",
       "54          167                6092  52.954695  0.082075  99.753775   \n",
       "106         264                5237  96.429253  0.038190  98.644262   \n",
       "184         420                4679  99.251977  3.483650  96.281257   \n",
       "58          176                4328  52.356747  0.023105  99.745841   \n",
       "134         338                4277  97.685293  0.023381  99.415478   \n",
       "90          243                4243  97.784586  0.400660  97.407495   \n",
       "71          199                4240  91.910377  0.259434  95.353774   \n",
       "206         458                3701  98.324777  0.000000  99.000270   \n",
       "200         443                3656  92.970460  0.000000  99.234136   \n",
       "\n",
       "        n_cpgo    n_cpid  \n",
       "11    0.000000  0.000000  \n",
       "54    0.000000  0.016415  \n",
       "106   0.000000  0.000000  \n",
       "184  91.194700  1.816627  \n",
       "58    0.000000  0.000000  \n",
       "134   0.140285  0.023381  \n",
       "90    3.676644  5.467829  \n",
       "71    0.306604  0.141509  \n",
       "206   0.027020  0.000000  \n",
       "200   0.000000  0.000000  "
      ]
     },
     "execution_count": 5,
     "metadata": {},
     "output_type": "execute_result"
    }
   ],
   "source": [
    "query = query_schema + \"\"\"\n",
    "with cpc as ( select distinct patientunitstayid from careplancareprovider )\n",
    ", cpeol as ( select distinct patientunitstayid from careplaneol )\n",
    ", cpge as ( select distinct patientunitstayid from careplangeneral )\n",
    ", cpgo as ( select distinct patientunitstayid from careplangoal )\n",
    ", cpid as ( select distinct patientunitstayid from careplaninfectiousdisease )\n",
    "select \n",
    "  pt.hospitalid\n",
    "  , count(distinct pt.patientunitstayid) as number_of_patients\n",
    "  , count(distinct cpc.patientunitstayid) as n_cpc\n",
    "  , count(distinct cpeol.patientunitstayid) as n_cpeol\n",
    "  , count(distinct cpge.patientunitstayid) as n_cpge\n",
    "  , count(distinct cpgo.patientunitstayid) as n_cpgo\n",
    "  , count(distinct cpid.patientunitstayid) as n_cpid\n",
    "from patient pt\n",
    "left join cpc\n",
    "  on pt.patientunitstayid = cpc.patientunitstayid\n",
    "left join cpeol\n",
    "  on pt.patientunitstayid = cpeol.patientunitstayid\n",
    "left join cpge\n",
    "  on pt.patientunitstayid = cpge.patientunitstayid\n",
    "left join cpgo\n",
    "  on pt.patientunitstayid = cpgo.patientunitstayid\n",
    "left join cpid\n",
    "  on pt.patientunitstayid = cpid.patientunitstayid\n",
    "group by pt.hospitalid\n",
    "\"\"\".format()\n",
    "\n",
    "df = pd.read_sql_query(query, con)\n",
    "# convert to percent\n",
    "cols = ['n_cpc', 'n_cpeol', 'n_cpge', 'n_cpgo', 'n_cpid']\n",
    "for c in cols:\n",
    "    df[c] = df[c].astype(float) / df['number_of_patients'] * 100.0\n",
    "    \n",
    "df.sort_values('number_of_patients', ascending=False, inplace=True)\n",
    "df.head(n=10)"
   ]
  },
  {
   "cell_type": "code",
   "execution_count": 14,
   "metadata": {},
   "outputs": [
    {
     "data": {
      "image/png": "[encoded data removed]",
      "text/plain": [
       "<matplotlib.figure.Figure at 0x7f0aa6bfbcf8>"
      ]
     },
     "metadata": {},
     "output_type": "display_data"
    }
   ],
   "source": [
    "# rename columns within the call for clarity in the figure\n",
    "column_label = {'n_cpc': 'Care provider',\n",
    "               'n_cpeol': 'EOL',\n",
    "                'n_cpge': 'General',\n",
    "                'n_cpgo': 'Goal',\n",
    "                'n_cpid': 'Infectious disease'}\n",
    "\n",
    "df[cols].rename(columns=column_label).plot.hist(\n",
    "    bins=np.linspace(0, 100, 10),\n",
    "    stacked=True,figsize=[10,8])\n",
    "plt.xlabel('Percent of patients with data in admissiondrug')\n",
    "plt.ylabel('Number of hospitals')\n",
    "plt.show()"
   ]
  },
  {
   "cell_type": "markdown",
   "metadata": {},
   "source": [
    "As we can see, the majority of hospitals do not have data for the goal, infectious disease, and EOL tables. Conversely, the care provider and general tables have good coverage."
   ]
  }
 ],
 "metadata": {
  "front-matter": {
   "date": "2015-09-01",
   "linktitle": "admissiondrug",
   "title": "admissiondrug"
  },
  "kernelspec": {
   "display_name": "Python 3",
   "language": "python",
   "name": "python3"
  },
  "language_info": {
   "codemirror_mode": {
    "name": "ipython",
    "version": 3
   },
   "file_extension": ".py",
   "mimetype": "text/x-python",
   "name": "python",
   "nbconvert_exporter": "python",
   "pygments_lexer": "ipython3",
   "version": "3.5.2"
  }
 },
 "nbformat": 4,
 "nbformat_minor": 2
}
