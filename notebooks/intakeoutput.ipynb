{
 "cells": [
  {
   "cell_type": "markdown",
   "metadata": {},
   "source": [
    "# intakeOutput\n",
    "\n",
    "Intake and output recorded for patients. Entered from the nursing flowsheet (either manually or interfaced into the hospital system)."
   ]
  },
  {
   "cell_type": "code",
   "execution_count": 1,
   "metadata": {},
   "outputs": [
    {
     "name": "stderr",
     "output_type": "stream",
     "text": [
      "/home/alistairewj/.local/lib/python3.5/site-packages/psycopg2/__init__.py:144: UserWarning: The psycopg2 wheel package will be renamed from release 2.8; in order to keep installing from binary please use \"pip install psycopg2-binary\" instead. For details see: <http://initd.org/psycopg/docs/install.html#binary-install-from-pypi>.\n",
      "  \"\"\")\n"
     ]
    }
   ],
   "source": [
    "# Import libraries\n",
    "import numpy as np\n",
    "import pandas as pd\n",
    "import matplotlib.pyplot as plt\n",
    "import psycopg2\n",
    "import getpass\n",
    "\n",
    "# for configuring connection \n",
    "from configobj import ConfigObj\n",
    "import os\n",
    "\n",
    "%matplotlib inline"
   ]
  },
  {
   "cell_type": "code",
   "execution_count": 2,
   "metadata": {},
   "outputs": [
    {
     "name": "stdout",
     "output_type": "stream",
     "text": [
      "Database: eicu\n",
      "Username: alistairewj\n"
     ]
    }
   ],
   "source": [
    "# Create a database connection using settings from config file\n",
    "config='../db/config.ini'\n",
    "\n",
    "# connection info\n",
    "conn_info = dict()\n",
    "if os.path.isfile(config):\n",
    "    config = ConfigObj(config)\n",
    "    conn_info[\"sqluser\"] = config['username']\n",
    "    conn_info[\"sqlpass\"] = config['password']\n",
    "    conn_info[\"sqlhost\"] = config['host']\n",
    "    conn_info[\"sqlport\"] = config['port']\n",
    "    conn_info[\"dbname\"] = config['dbname']\n",
    "    conn_info[\"schema_name\"] = config['schema_name']\n",
    "else:\n",
    "    conn_info[\"sqluser\"] = 'postgres'\n",
    "    conn_info[\"sqlpass\"] = ''\n",
    "    conn_info[\"sqlhost\"] = 'localhost'\n",
    "    conn_info[\"sqlport\"] = 5432\n",
    "    conn_info[\"dbname\"] = 'eicu'\n",
    "    conn_info[\"schema_name\"] = 'public,eicu_crd'\n",
    "    \n",
    "# Connect to the eICU database\n",
    "print('Database: {}'.format(conn_info['dbname']))\n",
    "print('Username: {}'.format(conn_info[\"sqluser\"]))\n",
    "if conn_info[\"sqlpass\"] == '':\n",
    "    # try connecting without password, i.e. peer or OS authentication\n",
    "    try:\n",
    "        if (conn_info[\"sqlhost\"] == 'localhost') & (conn_info[\"sqlport\"]=='5432'):\n",
    "            con = psycopg2.connect(dbname=conn_info[\"dbname\"],\n",
    "                                   user=conn_info[\"sqluser\"])            \n",
    "        else:\n",
    "            con = psycopg2.connect(dbname=conn_info[\"dbname\"],\n",
    "                                   host=conn_info[\"sqlhost\"],\n",
    "                                   port=conn_info[\"sqlport\"],\n",
    "                                   user=conn_info[\"sqluser\"])\n",
    "    except:\n",
    "        conn_info[\"sqlpass\"] = getpass.getpass('Password: ')\n",
    "\n",
    "        con = psycopg2.connect(dbname=conn_info[\"dbname\"],\n",
    "                               host=conn_info[\"sqlhost\"],\n",
    "                               port=conn_info[\"sqlport\"],\n",
    "                               user=conn_info[\"sqluser\"],\n",
    "                               password=conn_info[\"sqlpass\"])\n",
    "query_schema = 'set search_path to ' + conn_info['schema_name'] + ';'"
   ]
  },
  {
   "cell_type": "markdown",
   "metadata": {},
   "source": [
    "## Examine a single patient"
   ]
  },
  {
   "cell_type": "code",
   "execution_count": 3,
   "metadata": {},
   "outputs": [],
   "source": [
    "patientunitstayid = 242380"
   ]
  },
  {
   "cell_type": "code",
   "execution_count": 8,
   "metadata": {
    "scrolled": true
   },
   "outputs": [
    {
     "data": {
      "text/html": [
       "<div>\n",
       "<style scoped>\n",
       "    .dataframe tbody tr th:only-of-type {\n",
       "        vertical-align: middle;\n",
       "    }\n",
       "\n",
       "    .dataframe tbody tr th {\n",
       "        vertical-align: top;\n",
       "    }\n",
       "\n",
       "    .dataframe thead th {\n",
       "        text-align: right;\n",
       "    }\n",
       "</style>\n",
       "<table border=\"1\" class=\"dataframe\">\n",
       "  <thead>\n",
       "    <tr style=\"text-align: right;\">\n",
       "      <th></th>\n",
       "      <th>patientunitstayid</th>\n",
       "      <th>intakeoutputid</th>\n",
       "      <th>intakeoutputyear</th>\n",
       "      <th>intakeoutputtime24</th>\n",
       "      <th>intakeoutputtime</th>\n",
       "      <th>intakeoutputoffset</th>\n",
       "      <th>intaketotal</th>\n",
       "      <th>outputtotal</th>\n",
       "      <th>dialysistotal</th>\n",
       "      <th>nettotal</th>\n",
       "      <th>intakeoutputentryyear</th>\n",
       "      <th>intakeoutputentrytime24</th>\n",
       "      <th>intakeoutputentrytime</th>\n",
       "      <th>intakeoutputentryoffset</th>\n",
       "      <th>cellpath</th>\n",
       "      <th>celllabel</th>\n",
       "      <th>cellvaluenumeric</th>\n",
       "      <th>cellvaluetext</th>\n",
       "    </tr>\n",
       "  </thead>\n",
       "  <tbody>\n",
       "    <tr>\n",
       "      <th>0</th>\n",
       "      <td>242380</td>\n",
       "      <td>17914026</td>\n",
       "      <td>2015</td>\n",
       "      <td>11:00:00</td>\n",
       "      <td>noon</td>\n",
       "      <td>-181</td>\n",
       "      <td>0.0</td>\n",
       "      <td>650.0</td>\n",
       "      <td>0.0</td>\n",
       "      <td>-650.0</td>\n",
       "      <td>2015</td>\n",
       "      <td>16:08:18</td>\n",
       "      <td>evening</td>\n",
       "      <td>127</td>\n",
       "      <td>flowsheet|Flowsheet Cell Labels|I&amp;O|Weight|Bod...</td>\n",
       "      <td>Bodyweight (lb)</td>\n",
       "      <td>269.0</td>\n",
       "      <td>269</td>\n",
       "    </tr>\n",
       "    <tr>\n",
       "      <th>1</th>\n",
       "      <td>242380</td>\n",
       "      <td>17914024</td>\n",
       "      <td>2015</td>\n",
       "      <td>11:00:00</td>\n",
       "      <td>noon</td>\n",
       "      <td>-181</td>\n",
       "      <td>0.0</td>\n",
       "      <td>650.0</td>\n",
       "      <td>0.0</td>\n",
       "      <td>-650.0</td>\n",
       "      <td>2015</td>\n",
       "      <td>16:08:18</td>\n",
       "      <td>evening</td>\n",
       "      <td>127</td>\n",
       "      <td>flowsheet|Flowsheet Cell Labels|I&amp;O|Output (ml...</td>\n",
       "      <td>Urine</td>\n",
       "      <td>650.0</td>\n",
       "      <td>650</td>\n",
       "    </tr>\n",
       "    <tr>\n",
       "      <th>2</th>\n",
       "      <td>242380</td>\n",
       "      <td>17914025</td>\n",
       "      <td>2015</td>\n",
       "      <td>11:00:00</td>\n",
       "      <td>noon</td>\n",
       "      <td>-181</td>\n",
       "      <td>0.0</td>\n",
       "      <td>650.0</td>\n",
       "      <td>0.0</td>\n",
       "      <td>-650.0</td>\n",
       "      <td>2015</td>\n",
       "      <td>16:08:18</td>\n",
       "      <td>evening</td>\n",
       "      <td>127</td>\n",
       "      <td>flowsheet|Flowsheet Cell Labels|I&amp;O|Weight|Bod...</td>\n",
       "      <td>Bodyweight (kg)</td>\n",
       "      <td>122.0</td>\n",
       "      <td>122</td>\n",
       "    </tr>\n",
       "    <tr>\n",
       "      <th>3</th>\n",
       "      <td>242380</td>\n",
       "      <td>17609931</td>\n",
       "      <td>2015</td>\n",
       "      <td>19:00:00</td>\n",
       "      <td>night</td>\n",
       "      <td>299</td>\n",
       "      <td>0.0</td>\n",
       "      <td>500.0</td>\n",
       "      <td>0.0</td>\n",
       "      <td>-500.0</td>\n",
       "      <td>2015</td>\n",
       "      <td>21:01:57</td>\n",
       "      <td>night</td>\n",
       "      <td>420</td>\n",
       "      <td>flowsheet|Flowsheet Cell Labels|I&amp;O|Output (ml...</td>\n",
       "      <td>Urine</td>\n",
       "      <td>500.0</td>\n",
       "      <td>500</td>\n",
       "    </tr>\n",
       "    <tr>\n",
       "      <th>4</th>\n",
       "      <td>242380</td>\n",
       "      <td>18175773</td>\n",
       "      <td>2015</td>\n",
       "      <td>03:00:00</td>\n",
       "      <td>morning</td>\n",
       "      <td>779</td>\n",
       "      <td>0.0</td>\n",
       "      <td>700.0</td>\n",
       "      <td>0.0</td>\n",
       "      <td>-700.0</td>\n",
       "      <td>2015</td>\n",
       "      <td>07:54:33</td>\n",
       "      <td>midday</td>\n",
       "      <td>1073</td>\n",
       "      <td>flowsheet|Flowsheet Cell Labels|I&amp;O|Output (ml...</td>\n",
       "      <td>Urine</td>\n",
       "      <td>700.0</td>\n",
       "      <td>700</td>\n",
       "    </tr>\n",
       "  </tbody>\n",
       "</table>\n",
       "</div>"
      ],
      "text/plain": [
       "   patientunitstayid  intakeoutputid  intakeoutputyear intakeoutputtime24  \\\n",
       "0             242380        17914026              2015           11:00:00   \n",
       "1             242380        17914024              2015           11:00:00   \n",
       "2             242380        17914025              2015           11:00:00   \n",
       "3             242380        17609931              2015           19:00:00   \n",
       "4             242380        18175773              2015           03:00:00   \n",
       "\n",
       "  intakeoutputtime  intakeoutputoffset  intaketotal  outputtotal  \\\n",
       "0             noon                -181          0.0        650.0   \n",
       "1             noon                -181          0.0        650.0   \n",
       "2             noon                -181          0.0        650.0   \n",
       "3            night                 299          0.0        500.0   \n",
       "4          morning                 779          0.0        700.0   \n",
       "\n",
       "   dialysistotal  nettotal  intakeoutputentryyear intakeoutputentrytime24  \\\n",
       "0            0.0    -650.0                   2015                16:08:18   \n",
       "1            0.0    -650.0                   2015                16:08:18   \n",
       "2            0.0    -650.0                   2015                16:08:18   \n",
       "3            0.0    -500.0                   2015                21:01:57   \n",
       "4            0.0    -700.0                   2015                07:54:33   \n",
       "\n",
       "  intakeoutputentrytime  intakeoutputentryoffset  \\\n",
       "0               evening                      127   \n",
       "1               evening                      127   \n",
       "2               evening                      127   \n",
       "3                 night                      420   \n",
       "4                midday                     1073   \n",
       "\n",
       "                                            cellpath        celllabel  \\\n",
       "0  flowsheet|Flowsheet Cell Labels|I&O|Weight|Bod...  Bodyweight (lb)   \n",
       "1  flowsheet|Flowsheet Cell Labels|I&O|Output (ml...            Urine   \n",
       "2  flowsheet|Flowsheet Cell Labels|I&O|Weight|Bod...  Bodyweight (kg)   \n",
       "3  flowsheet|Flowsheet Cell Labels|I&O|Output (ml...            Urine   \n",
       "4  flowsheet|Flowsheet Cell Labels|I&O|Output (ml...            Urine   \n",
       "\n",
       "   cellvaluenumeric cellvaluetext  \n",
       "0             269.0           269  \n",
       "1             650.0           650  \n",
       "2             122.0           122  \n",
       "3             500.0           500  \n",
       "4             700.0           700  "
      ]
     },
     "execution_count": 8,
     "metadata": {},
     "output_type": "execute_result"
    }
   ],
   "source": [
    "query = query_schema + \"\"\"\n",
    "select *\n",
    "from intakeoutput\n",
    "where patientunitstayid = {}\n",
    "order by intakeoutputoffset\n",
    "\"\"\".format(patientunitstayid)\n",
    "\n",
    "df = pd.read_sql_query(query, con)\n",
    "df.head()"
   ]
  },
  {
   "cell_type": "markdown",
   "metadata": {},
   "source": [
    "Above we can see that the type of data recorded is described by the `cellpath`. `cellpath` is hierarchical, with pipes (`|`) separating hierarchies. As expected, most data here will fall under the I&O hierarchy. We can see the patient body weight is recorded in both pounds (lbs) and kilograms (kg). The patient's urine output is also documented."
   ]
  },
  {
   "cell_type": "markdown",
   "metadata": {},
   "source": [
    "### Urine output\n",
    "\n",
    "Though not recommended for actual use in a study, we can write a query to quickly get an idea of urine output for this patient."
   ]
  },
  {
   "cell_type": "code",
   "execution_count": 14,
   "metadata": {},
   "outputs": [
    {
     "data": {
      "image/png": "[encoded data removed]",
      "text/plain": [
       "<matplotlib.figure.Figure at 0x7f8920747048>"
      ]
     },
     "metadata": {},
     "output_type": "display_data"
    }
   ],
   "source": [
    "df_uo = df.loc[df['celllabel'].str.contains('Urine'), :].copy()\n",
    "df_uo['uo'] = pd.to_numeric(df_uo['cellvaluenumeric'], errors='coerce')\n",
    "df_uo['uo'] = df_uo['uo'].cumsum()\n",
    "plt.figure()\n",
    "plt.plot(df_uo['intakeoutputoffset'], df_uo['uo'], 'o-')\n",
    "plt.show()"
   ]
  },
  {
   "cell_type": "markdown",
   "metadata": {},
   "source": [
    "## General intake/output\n",
    "\n",
    "The columns `intaketotal`, `outputtotal`, `dialysistotal`, and `nettotal` give us an easy way to plot the patient's fluid balance over time."
   ]
  },
  {
   "cell_type": "code",
   "execution_count": 16,
   "metadata": {},
   "outputs": [
    {
     "data": {
      "image/png": "[encoded data removed]",
      "text/plain": [
       "<matplotlib.figure.Figure at 0x7f892068e2b0>"
      ]
     },
     "metadata": {},
     "output_type": "display_data"
    }
   ],
   "source": [
    "plt.figure()\n",
    "for c in ['intaketotal', 'outputtotal', 'dialysistotal', 'nettotal']:\n",
    "    plt.plot(df['intakeoutputoffset'], df[c], 'o-')\n",
    "plt.legend(loc='upper left')\n",
    "plt.show()"
   ]
  },
  {
   "cell_type": "markdown",
   "metadata": {},
   "source": [
    "Of course, it is unlikely that the patient has good urine output for almost 20 hours with no corresponding fluid intake - and even less likely that urine output is the *only* factor affecting patient fluid balance and likely the `nettotal` column is a naive aggregation of information documented in the intakeOutput table. Indeed, we can see from the infusionDrug table that the patient is receiving both heparin and nitroglycerin, which should be factored in as inputs when calculating patient fluid balance."
   ]
  },
  {
   "cell_type": "markdown",
   "metadata": {},
   "source": [
    "## Hospitals with data available"
   ]
  },
  {
   "cell_type": "code",
   "execution_count": 18,
   "metadata": {},
   "outputs": [
    {
     "data": {
      "text/html": [
       "<div>\n",
       "<style scoped>\n",
       "    .dataframe tbody tr th:only-of-type {\n",
       "        vertical-align: middle;\n",
       "    }\n",
       "\n",
       "    .dataframe tbody tr th {\n",
       "        vertical-align: top;\n",
       "    }\n",
       "\n",
       "    .dataframe thead th {\n",
       "        text-align: right;\n",
       "    }\n",
       "</style>\n",
       "<table border=\"1\" class=\"dataframe\">\n",
       "  <thead>\n",
       "    <tr style=\"text-align: right;\">\n",
       "      <th></th>\n",
       "      <th>hospitalid</th>\n",
       "      <th>number_of_patients</th>\n",
       "      <th>number_of_patients_with_tbl</th>\n",
       "      <th>data completion</th>\n",
       "    </tr>\n",
       "  </thead>\n",
       "  <tbody>\n",
       "    <tr>\n",
       "      <th>11</th>\n",
       "      <td>73</td>\n",
       "      <td>7059</td>\n",
       "      <td>6914</td>\n",
       "      <td>97.945885</td>\n",
       "    </tr>\n",
       "    <tr>\n",
       "      <th>54</th>\n",
       "      <td>167</td>\n",
       "      <td>6092</td>\n",
       "      <td>5666</td>\n",
       "      <td>93.007223</td>\n",
       "    </tr>\n",
       "    <tr>\n",
       "      <th>106</th>\n",
       "      <td>264</td>\n",
       "      <td>5237</td>\n",
       "      <td>5088</td>\n",
       "      <td>97.154860</td>\n",
       "    </tr>\n",
       "    <tr>\n",
       "      <th>184</th>\n",
       "      <td>420</td>\n",
       "      <td>4679</td>\n",
       "      <td>4446</td>\n",
       "      <td>95.020303</td>\n",
       "    </tr>\n",
       "    <tr>\n",
       "      <th>134</th>\n",
       "      <td>338</td>\n",
       "      <td>4277</td>\n",
       "      <td>4232</td>\n",
       "      <td>98.947861</td>\n",
       "    </tr>\n",
       "    <tr>\n",
       "      <th>90</th>\n",
       "      <td>243</td>\n",
       "      <td>4243</td>\n",
       "      <td>4156</td>\n",
       "      <td>97.949564</td>\n",
       "    </tr>\n",
       "    <tr>\n",
       "      <th>71</th>\n",
       "      <td>199</td>\n",
       "      <td>4240</td>\n",
       "      <td>3970</td>\n",
       "      <td>93.632075</td>\n",
       "    </tr>\n",
       "    <tr>\n",
       "      <th>58</th>\n",
       "      <td>176</td>\n",
       "      <td>4328</td>\n",
       "      <td>3935</td>\n",
       "      <td>90.919593</td>\n",
       "    </tr>\n",
       "    <tr>\n",
       "      <th>206</th>\n",
       "      <td>458</td>\n",
       "      <td>3701</td>\n",
       "      <td>3663</td>\n",
       "      <td>98.973250</td>\n",
       "    </tr>\n",
       "    <tr>\n",
       "      <th>122</th>\n",
       "      <td>300</td>\n",
       "      <td>3617</td>\n",
       "      <td>3534</td>\n",
       "      <td>97.705281</td>\n",
       "    </tr>\n",
       "  </tbody>\n",
       "</table>\n",
       "</div>"
      ],
      "text/plain": [
       "     hospitalid  number_of_patients  number_of_patients_with_tbl  \\\n",
       "11           73                7059                         6914   \n",
       "54          167                6092                         5666   \n",
       "106         264                5237                         5088   \n",
       "184         420                4679                         4446   \n",
       "134         338                4277                         4232   \n",
       "90          243                4243                         4156   \n",
       "71          199                4240                         3970   \n",
       "58          176                4328                         3935   \n",
       "206         458                3701                         3663   \n",
       "122         300                3617                         3534   \n",
       "\n",
       "     data completion  \n",
       "11         97.945885  \n",
       "54         93.007223  \n",
       "106        97.154860  \n",
       "184        95.020303  \n",
       "134        98.947861  \n",
       "90         97.949564  \n",
       "71         93.632075  \n",
       "58         90.919593  \n",
       "206        98.973250  \n",
       "122        97.705281  "
      ]
     },
     "execution_count": 18,
     "metadata": {},
     "output_type": "execute_result"
    }
   ],
   "source": [
    "query = query_schema + \"\"\"\n",
    "select \n",
    "  pt.hospitalid\n",
    "  , count(distinct pt.patientunitstayid) as number_of_patients\n",
    "  , count(distinct a.patientunitstayid) as number_of_patients_with_tbl\n",
    "from patient pt\n",
    "left join intakeoutput a\n",
    "  on pt.patientunitstayid = a.patientunitstayid\n",
    "group by pt.hospitalid\n",
    "\"\"\".format(patientunitstayid)\n",
    "\n",
    "df = pd.read_sql_query(query, con)\n",
    "df['data completion'] = df['number_of_patients_with_tbl'] / df['number_of_patients'] * 100.0\n",
    "df.sort_values('number_of_patients_with_tbl', ascending=False, inplace=True)\n",
    "df.head(n=10)"
   ]
  },
  {
   "cell_type": "code",
   "execution_count": 20,
   "metadata": {},
   "outputs": [
    {
     "data": {
      "image/png": "[encoded data removed]",
      "text/plain": [
       "<matplotlib.figure.Figure at 0x7f89205bab38>"
      ]
     },
     "metadata": {},
     "output_type": "display_data"
    }
   ],
   "source": [
    "plt.figure(figsize=[10,6])\n",
    "plt.hist(df['data completion'], bins=np.linspace(0, 100, 10))\n",
    "plt.xlabel('Percent of patients with data in intakeOutput')\n",
    "plt.ylabel('Number of hospitals')\n",
    "plt.show()"
   ]
  },
  {
   "cell_type": "markdown",
   "metadata": {},
   "source": [
    "Above we can see that around 10 hospitals have very few to no patients documented in the intakeOutput table (left side of histogram, 0-10% bin), while over 120 hospitals have 90-100% of patients with data in intakeOutput (right side of histogram, 0-90% bin). "
   ]
  }
 ],
 "metadata": {
  "front-matter": {
   "date": "2015-09-01",
   "linktitle": "admissiondrug",
   "title": "admissiondrug"
  },
  "kernelspec": {
   "display_name": "Python 3",
   "language": "python",
   "name": "python3"
  },
  "language_info": {
   "codemirror_mode": {
    "name": "ipython",
    "version": 3
   },
   "file_extension": ".py",
   "mimetype": "text/x-python",
   "name": "python",
   "nbconvert_exporter": "python",
   "pygments_lexer": "ipython3",
   "version": "3.5.2"
  }
 },
 "nbformat": 4,
 "nbformat_minor": 2
}
