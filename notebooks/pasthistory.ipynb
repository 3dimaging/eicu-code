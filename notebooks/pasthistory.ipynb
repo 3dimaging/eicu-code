{
 "cells": [
  {
   "cell_type": "markdown",
   "metadata": {},
   "source": [
    "# pastHistory\n",
    "\n",
    "Provides information related a patient’s relevant past medical history. Providing detailed past history is not common, but items such as AIDS, Cirrhosis of the Liver, Hepatic Failure, Chronic Renal Failure, Transplant, and Pre-existing Cancers / immunosuppression are more reliable because of their importance in severity outcome scoring."
   ]
  },
  {
   "cell_type": "code",
   "execution_count": 1,
   "metadata": {},
   "outputs": [
    {
     "name": "stderr",
     "output_type": "stream",
     "text": [
      "/home/alistairewj/.local/lib/python3.5/site-packages/psycopg2/__init__.py:144: UserWarning: The psycopg2 wheel package will be renamed from release 2.8; in order to keep installing from binary please use \"pip install psycopg2-binary\" instead. For details see: <http://initd.org/psycopg/docs/install.html#binary-install-from-pypi>.\n",
      "  \"\"\")\n"
     ]
    }
   ],
   "source": [
    "# Import libraries\n",
    "import numpy as np\n",
    "import pandas as pd\n",
    "import matplotlib.pyplot as plt\n",
    "import psycopg2\n",
    "import getpass\n",
    "\n",
    "# for configuring connection \n",
    "from configobj import ConfigObj\n",
    "import os\n",
    "\n",
    "%matplotlib inline"
   ]
  },
  {
   "cell_type": "code",
   "execution_count": 2,
   "metadata": {},
   "outputs": [
    {
     "name": "stdout",
     "output_type": "stream",
     "text": [
      "Database: eicu\n",
      "Username: alistairewj\n"
     ]
    }
   ],
   "source": [
    "# Create a database connection using settings from config file\n",
    "config='../db/config.ini'\n",
    "\n",
    "# connection info\n",
    "conn_info = dict()\n",
    "if os.path.isfile(config):\n",
    "    config = ConfigObj(config)\n",
    "    conn_info[\"sqluser\"] = config['username']\n",
    "    conn_info[\"sqlpass\"] = config['password']\n",
    "    conn_info[\"sqlhost\"] = config['host']\n",
    "    conn_info[\"sqlport\"] = config['port']\n",
    "    conn_info[\"dbname\"] = config['dbname']\n",
    "    conn_info[\"schema_name\"] = config['schema_name']\n",
    "else:\n",
    "    conn_info[\"sqluser\"] = 'postgres'\n",
    "    conn_info[\"sqlpass\"] = ''\n",
    "    conn_info[\"sqlhost\"] = 'localhost'\n",
    "    conn_info[\"sqlport\"] = 5432\n",
    "    conn_info[\"dbname\"] = 'eicu'\n",
    "    conn_info[\"schema_name\"] = 'public,eicu_crd'\n",
    "    \n",
    "# Connect to the eICU database\n",
    "print('Database: {}'.format(conn_info['dbname']))\n",
    "print('Username: {}'.format(conn_info[\"sqluser\"]))\n",
    "if conn_info[\"sqlpass\"] == '':\n",
    "    # try connecting without password, i.e. peer or OS authentication\n",
    "    try:\n",
    "        if (conn_info[\"sqlhost\"] == 'localhost') & (conn_info[\"sqlport\"]=='5432'):\n",
    "            con = psycopg2.connect(dbname=conn_info[\"dbname\"],\n",
    "                                   user=conn_info[\"sqluser\"])            \n",
    "        else:\n",
    "            con = psycopg2.connect(dbname=conn_info[\"dbname\"],\n",
    "                                   host=conn_info[\"sqlhost\"],\n",
    "                                   port=conn_info[\"sqlport\"],\n",
    "                                   user=conn_info[\"sqluser\"])\n",
    "    except:\n",
    "        conn_info[\"sqlpass\"] = getpass.getpass('Password: ')\n",
    "\n",
    "        con = psycopg2.connect(dbname=conn_info[\"dbname\"],\n",
    "                               host=conn_info[\"sqlhost\"],\n",
    "                               port=conn_info[\"sqlport\"],\n",
    "                               user=conn_info[\"sqluser\"],\n",
    "                               password=conn_info[\"sqlpass\"])\n",
    "query_schema = 'set search_path to ' + conn_info['schema_name'] + ';'"
   ]
  },
  {
   "cell_type": "markdown",
   "metadata": {},
   "source": [
    "## Examine a single patient"
   ]
  },
  {
   "cell_type": "code",
   "execution_count": 6,
   "metadata": {},
   "outputs": [],
   "source": [
    "patientunitstayid = 141168"
   ]
  },
  {
   "cell_type": "code",
   "execution_count": 7,
   "metadata": {
    "scrolled": true
   },
   "outputs": [
    {
     "data": {
      "text/html": [
       "<div>\n",
       "<style scoped>\n",
       "    .dataframe tbody tr th:only-of-type {\n",
       "        vertical-align: middle;\n",
       "    }\n",
       "\n",
       "    .dataframe tbody tr th {\n",
       "        vertical-align: top;\n",
       "    }\n",
       "\n",
       "    .dataframe thead th {\n",
       "        text-align: right;\n",
       "    }\n",
       "</style>\n",
       "<table border=\"1\" class=\"dataframe\">\n",
       "  <thead>\n",
       "    <tr style=\"text-align: right;\">\n",
       "      <th></th>\n",
       "      <th>pasthistoryid</th>\n",
       "      <th>patientunitstayid</th>\n",
       "      <th>pasthistoryyear</th>\n",
       "      <th>pasthistorytime24</th>\n",
       "      <th>pasthistorytime</th>\n",
       "      <th>pasthistoryoffset</th>\n",
       "      <th>pasthistoryenteredyear</th>\n",
       "      <th>pasthistoryenteredtime24</th>\n",
       "      <th>pasthistoryenteredtime</th>\n",
       "      <th>pasthistoryenteredoffset</th>\n",
       "      <th>pasthistorynotetype</th>\n",
       "      <th>pasthistorypath</th>\n",
       "      <th>pasthistoryvalue</th>\n",
       "      <th>pasthistoryvaluetext</th>\n",
       "    </tr>\n",
       "  </thead>\n",
       "  <tbody>\n",
       "    <tr>\n",
       "      <th>0</th>\n",
       "      <td>1141834</td>\n",
       "      <td>141168</td>\n",
       "      <td>2015</td>\n",
       "      <td>16:54:00</td>\n",
       "      <td>evening</td>\n",
       "      <td>60</td>\n",
       "      <td>2015</td>\n",
       "      <td>17:06:46</td>\n",
       "      <td>evening</td>\n",
       "      <td>72</td>\n",
       "      <td>Comprehensive Progress</td>\n",
       "      <td>notes/Progress Notes/Past History/Organ System...</td>\n",
       "      <td>COPD  - no limitations</td>\n",
       "      <td>COPD  - no limitations</td>\n",
       "    </tr>\n",
       "    <tr>\n",
       "      <th>1</th>\n",
       "      <td>1141830</td>\n",
       "      <td>141168</td>\n",
       "      <td>2015</td>\n",
       "      <td>16:54:00</td>\n",
       "      <td>evening</td>\n",
       "      <td>60</td>\n",
       "      <td>2015</td>\n",
       "      <td>17:06:46</td>\n",
       "      <td>evening</td>\n",
       "      <td>72</td>\n",
       "      <td>Comprehensive Progress</td>\n",
       "      <td>notes/Progress Notes/Past History/Organ System...</td>\n",
       "      <td>hypertension requiring treatment</td>\n",
       "      <td>hypertension requiring treatment</td>\n",
       "    </tr>\n",
       "    <tr>\n",
       "      <th>2</th>\n",
       "      <td>1141826</td>\n",
       "      <td>141168</td>\n",
       "      <td>2015</td>\n",
       "      <td>16:54:00</td>\n",
       "      <td>evening</td>\n",
       "      <td>60</td>\n",
       "      <td>2015</td>\n",
       "      <td>17:06:46</td>\n",
       "      <td>evening</td>\n",
       "      <td>72</td>\n",
       "      <td>Comprehensive Progress</td>\n",
       "      <td>notes/Progress Notes/Past History/Past History...</td>\n",
       "      <td>Performed</td>\n",
       "      <td>Performed</td>\n",
       "    </tr>\n",
       "    <tr>\n",
       "      <th>3</th>\n",
       "      <td>1141829</td>\n",
       "      <td>141168</td>\n",
       "      <td>2015</td>\n",
       "      <td>16:54:00</td>\n",
       "      <td>evening</td>\n",
       "      <td>60</td>\n",
       "      <td>2015</td>\n",
       "      <td>17:06:46</td>\n",
       "      <td>evening</td>\n",
       "      <td>72</td>\n",
       "      <td>Comprehensive Progress</td>\n",
       "      <td>notes/Progress Notes/Past History/Organ System...</td>\n",
       "      <td>AICD</td>\n",
       "      <td>AICD</td>\n",
       "    </tr>\n",
       "    <tr>\n",
       "      <th>4</th>\n",
       "      <td>1141832</td>\n",
       "      <td>141168</td>\n",
       "      <td>2015</td>\n",
       "      <td>16:54:00</td>\n",
       "      <td>evening</td>\n",
       "      <td>60</td>\n",
       "      <td>2015</td>\n",
       "      <td>17:06:46</td>\n",
       "      <td>evening</td>\n",
       "      <td>72</td>\n",
       "      <td>Comprehensive Progress</td>\n",
       "      <td>notes/Progress Notes/Past History/Organ System...</td>\n",
       "      <td>renal failure- not currently dialyzed</td>\n",
       "      <td>renal failure- not currently dialyzed</td>\n",
       "    </tr>\n",
       "  </tbody>\n",
       "</table>\n",
       "</div>"
      ],
      "text/plain": [
       "   pasthistoryid  patientunitstayid  pasthistoryyear pasthistorytime24  \\\n",
       "0        1141834             141168             2015          16:54:00   \n",
       "1        1141830             141168             2015          16:54:00   \n",
       "2        1141826             141168             2015          16:54:00   \n",
       "3        1141829             141168             2015          16:54:00   \n",
       "4        1141832             141168             2015          16:54:00   \n",
       "\n",
       "  pasthistorytime  pasthistoryoffset  pasthistoryenteredyear  \\\n",
       "0         evening                 60                    2015   \n",
       "1         evening                 60                    2015   \n",
       "2         evening                 60                    2015   \n",
       "3         evening                 60                    2015   \n",
       "4         evening                 60                    2015   \n",
       "\n",
       "  pasthistoryenteredtime24 pasthistoryenteredtime  pasthistoryenteredoffset  \\\n",
       "0                 17:06:46                evening                        72   \n",
       "1                 17:06:46                evening                        72   \n",
       "2                 17:06:46                evening                        72   \n",
       "3                 17:06:46                evening                        72   \n",
       "4                 17:06:46                evening                        72   \n",
       "\n",
       "      pasthistorynotetype                                    pasthistorypath  \\\n",
       "0  Comprehensive Progress  notes/Progress Notes/Past History/Organ System...   \n",
       "1  Comprehensive Progress  notes/Progress Notes/Past History/Organ System...   \n",
       "2  Comprehensive Progress  notes/Progress Notes/Past History/Past History...   \n",
       "3  Comprehensive Progress  notes/Progress Notes/Past History/Organ System...   \n",
       "4  Comprehensive Progress  notes/Progress Notes/Past History/Organ System...   \n",
       "\n",
       "                        pasthistoryvalue  \\\n",
       "0                 COPD  - no limitations   \n",
       "1       hypertension requiring treatment   \n",
       "2                              Performed   \n",
       "3                                   AICD   \n",
       "4  renal failure- not currently dialyzed   \n",
       "\n",
       "                    pasthistoryvaluetext  \n",
       "0                 COPD  - no limitations  \n",
       "1       hypertension requiring treatment  \n",
       "2                              Performed  \n",
       "3                                   AICD  \n",
       "4  renal failure- not currently dialyzed  "
      ]
     },
     "execution_count": 7,
     "metadata": {},
     "output_type": "execute_result"
    }
   ],
   "source": [
    "query = query_schema + \"\"\"\n",
    "select *\n",
    "from pasthistory\n",
    "where patientunitstayid = {}\n",
    "order by pasthistoryoffset\n",
    "\"\"\".format(patientunitstayid)\n",
    "\n",
    "df = pd.read_sql_query(query, con)\n",
    "df.head()"
   ]
  },
  {
   "cell_type": "markdown",
   "metadata": {},
   "source": [
    "We can make a few observations:\n",
    "\n",
    "* `pasthistorypath` is a slash delimited (`/`) hierarchical categorization of the past history recorded\n",
    "* `pasthistoryvalue` and `pasthistoryvaluetext` are often identical\n",
    "* `pasthistoryoffset` is the time of the condition, while `pasthistoryenteredoffset` is when it was documented, though from above it appears the `pasthistoryoffset` is not necessarily the start time of the condition"
   ]
  },
  {
   "cell_type": "markdown",
   "metadata": {},
   "source": [
    "## Identifying COPD patients"
   ]
  },
  {
   "cell_type": "markdown",
   "metadata": {},
   "source": [
    "Let's look for patients who were admitted with a past history of COPD."
   ]
  },
  {
   "cell_type": "code",
   "execution_count": 10,
   "metadata": {},
   "outputs": [
    {
     "data": {
      "text/html": [
       "<div>\n",
       "<style scoped>\n",
       "    .dataframe tbody tr th:only-of-type {\n",
       "        vertical-align: middle;\n",
       "    }\n",
       "\n",
       "    .dataframe tbody tr th {\n",
       "        vertical-align: top;\n",
       "    }\n",
       "\n",
       "    .dataframe thead th {\n",
       "        text-align: right;\n",
       "    }\n",
       "</style>\n",
       "<table border=\"1\" class=\"dataframe\">\n",
       "  <thead>\n",
       "    <tr style=\"text-align: right;\">\n",
       "      <th></th>\n",
       "      <th>pasthistoryvalue</th>\n",
       "      <th>n</th>\n",
       "    </tr>\n",
       "  </thead>\n",
       "  <tbody>\n",
       "    <tr>\n",
       "      <th>0</th>\n",
       "      <td>COPD  - no limitations</td>\n",
       "      <td>13373</td>\n",
       "    </tr>\n",
       "    <tr>\n",
       "      <th>1</th>\n",
       "      <td>COPD  - moderate</td>\n",
       "      <td>22622</td>\n",
       "    </tr>\n",
       "    <tr>\n",
       "      <th>2</th>\n",
       "      <td>COPD  - severe</td>\n",
       "      <td>11596</td>\n",
       "    </tr>\n",
       "  </tbody>\n",
       "</table>\n",
       "</div>"
      ],
      "text/plain": [
       "         pasthistoryvalue      n\n",
       "0  COPD  - no limitations  13373\n",
       "1        COPD  - moderate  22622\n",
       "2          COPD  - severe  11596"
      ]
     },
     "execution_count": 10,
     "metadata": {},
     "output_type": "execute_result"
    }
   ],
   "source": [
    "dx = 'COPD'\n",
    "query = query_schema + \"\"\"\n",
    "select \n",
    "  pasthistoryvalue, count(*) as n\n",
    "from pasthistory\n",
    "where pasthistoryvalue ilike '%{}%'\n",
    "group by pasthistoryvalue\n",
    "\"\"\".format(dx)\n",
    "\n",
    "df_copd = pd.read_sql_query(query, con)\n",
    "df_copd"
   ]
  },
  {
   "cell_type": "code",
   "execution_count": 11,
   "metadata": {
    "scrolled": true
   },
   "outputs": [
    {
     "name": "stdout",
     "output_type": "stream",
     "text": [
      "27123 unit stays with COPD.\n"
     ]
    }
   ],
   "source": [
    "dx = 'COPD'\n",
    "query = query_schema + \"\"\"\n",
    "select \n",
    "  patientunitstayid, count(*) as n\n",
    "from pasthistory\n",
    "where pasthistoryvalue ilike '%{}%'\n",
    "group by patientunitstayid\n",
    "\"\"\".format(dx)\n",
    "\n",
    "df_copd = pd.read_sql_query(query, con)\n",
    "print('{} unit stays with {}.'.format(df_copd.shape[0], dx))"
   ]
  },
  {
   "cell_type": "markdown",
   "metadata": {},
   "source": [
    "## Hospitals with data available"
   ]
  },
  {
   "cell_type": "code",
   "execution_count": 12,
   "metadata": {},
   "outputs": [
    {
     "data": {
      "text/html": [
       "<div>\n",
       "<style scoped>\n",
       "    .dataframe tbody tr th:only-of-type {\n",
       "        vertical-align: middle;\n",
       "    }\n",
       "\n",
       "    .dataframe tbody tr th {\n",
       "        vertical-align: top;\n",
       "    }\n",
       "\n",
       "    .dataframe thead th {\n",
       "        text-align: right;\n",
       "    }\n",
       "</style>\n",
       "<table border=\"1\" class=\"dataframe\">\n",
       "  <thead>\n",
       "    <tr style=\"text-align: right;\">\n",
       "      <th></th>\n",
       "      <th>hospitalid</th>\n",
       "      <th>number_of_patients</th>\n",
       "      <th>number_of_patients_with_tbl</th>\n",
       "      <th>data completion</th>\n",
       "    </tr>\n",
       "  </thead>\n",
       "  <tbody>\n",
       "    <tr>\n",
       "      <th>11</th>\n",
       "      <td>73</td>\n",
       "      <td>7059</td>\n",
       "      <td>6050</td>\n",
       "      <td>85.706191</td>\n",
       "    </tr>\n",
       "    <tr>\n",
       "      <th>106</th>\n",
       "      <td>264</td>\n",
       "      <td>5237</td>\n",
       "      <td>4863</td>\n",
       "      <td>92.858507</td>\n",
       "    </tr>\n",
       "    <tr>\n",
       "      <th>184</th>\n",
       "      <td>420</td>\n",
       "      <td>4679</td>\n",
       "      <td>4467</td>\n",
       "      <td>95.469117</td>\n",
       "    </tr>\n",
       "    <tr>\n",
       "      <th>134</th>\n",
       "      <td>338</td>\n",
       "      <td>4277</td>\n",
       "      <td>4222</td>\n",
       "      <td>98.714052</td>\n",
       "    </tr>\n",
       "    <tr>\n",
       "      <th>90</th>\n",
       "      <td>243</td>\n",
       "      <td>4243</td>\n",
       "      <td>4093</td>\n",
       "      <td>96.464765</td>\n",
       "    </tr>\n",
       "    <tr>\n",
       "      <th>54</th>\n",
       "      <td>167</td>\n",
       "      <td>6092</td>\n",
       "      <td>3779</td>\n",
       "      <td>62.032173</td>\n",
       "    </tr>\n",
       "    <tr>\n",
       "      <th>206</th>\n",
       "      <td>458</td>\n",
       "      <td>3701</td>\n",
       "      <td>3623</td>\n",
       "      <td>97.892461</td>\n",
       "    </tr>\n",
       "    <tr>\n",
       "      <th>200</th>\n",
       "      <td>443</td>\n",
       "      <td>3656</td>\n",
       "      <td>3589</td>\n",
       "      <td>98.167396</td>\n",
       "    </tr>\n",
       "    <tr>\n",
       "      <th>122</th>\n",
       "      <td>300</td>\n",
       "      <td>3617</td>\n",
       "      <td>3544</td>\n",
       "      <td>97.981753</td>\n",
       "    </tr>\n",
       "    <tr>\n",
       "      <th>80</th>\n",
       "      <td>208</td>\n",
       "      <td>3650</td>\n",
       "      <td>3403</td>\n",
       "      <td>93.232877</td>\n",
       "    </tr>\n",
       "  </tbody>\n",
       "</table>\n",
       "</div>"
      ],
      "text/plain": [
       "     hospitalid  number_of_patients  number_of_patients_with_tbl  \\\n",
       "11           73                7059                         6050   \n",
       "106         264                5237                         4863   \n",
       "184         420                4679                         4467   \n",
       "134         338                4277                         4222   \n",
       "90          243                4243                         4093   \n",
       "54          167                6092                         3779   \n",
       "206         458                3701                         3623   \n",
       "200         443                3656                         3589   \n",
       "122         300                3617                         3544   \n",
       "80          208                3650                         3403   \n",
       "\n",
       "     data completion  \n",
       "11         85.706191  \n",
       "106        92.858507  \n",
       "184        95.469117  \n",
       "134        98.714052  \n",
       "90         96.464765  \n",
       "54         62.032173  \n",
       "206        97.892461  \n",
       "200        98.167396  \n",
       "122        97.981753  \n",
       "80         93.232877  "
      ]
     },
     "execution_count": 12,
     "metadata": {},
     "output_type": "execute_result"
    }
   ],
   "source": [
    "query = query_schema + \"\"\"\n",
    "with t as\n",
    "(\n",
    "select distinct patientunitstayid\n",
    "from pasthistory\n",
    ")\n",
    "select \n",
    "  pt.hospitalid\n",
    "  , count(distinct pt.patientunitstayid) as number_of_patients\n",
    "  , count(distinct t.patientunitstayid) as number_of_patients_with_tbl\n",
    "from patient pt\n",
    "left join t\n",
    "  on pt.patientunitstayid = t.patientunitstayid\n",
    "group by pt.hospitalid\n",
    "\"\"\".format(patientunitstayid)\n",
    "\n",
    "df = pd.read_sql_query(query, con)\n",
    "df['data completion'] = df['number_of_patients_with_tbl'] / df['number_of_patients'] * 100.0\n",
    "df.sort_values('number_of_patients_with_tbl', ascending=False, inplace=True)\n",
    "df.head(n=10)"
   ]
  },
  {
   "cell_type": "code",
   "execution_count": 13,
   "metadata": {},
   "outputs": [
    {
     "data": {
      "image/png": "[encoded data removed]",
      "text/plain": [
       "<matplotlib.figure.Figure at 0x7f486a253d30>"
      ]
     },
     "metadata": {},
     "output_type": "display_data"
    }
   ],
   "source": [
    "plt.figure(figsize=[10,6])\n",
    "plt.hist(df['data completion'], bins=np.linspace(0, 100, 10))\n",
    "plt.xlabel('Percent of patients with data in pasthistory')\n",
    "plt.ylabel('Number of hospitals')\n",
    "plt.show()"
   ]
  },
  {
   "cell_type": "markdown",
   "metadata": {},
   "source": [
    "The majority of hospitals have data for the pasthistory table, again likely due to its importance for certain severity of illness scoring systems."
   ]
  }
 ],
 "metadata": {
  "front-matter": {
   "date": "2015-09-01",
   "linktitle": "admissiondrug",
   "title": "admissiondrug"
  },
  "kernelspec": {
   "display_name": "Python 3",
   "language": "python",
   "name": "python3"
  },
  "language_info": {
   "codemirror_mode": {
    "name": "ipython",
    "version": 3
   },
   "file_extension": ".py",
   "mimetype": "text/x-python",
   "name": "python",
   "nbconvert_exporter": "python",
   "pygments_lexer": "ipython3",
   "version": "3.5.2"
  }
 },
 "nbformat": 4,
 "nbformat_minor": 2
}
