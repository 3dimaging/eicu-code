{
 "cells": [
  {
   "cell_type": "markdown",
   "metadata": {},
   "source": [
    "# admissionDrug\n",
    "\n",
    "The following columns are available:\n",
    "\n",
    "* admissiondrugid - primary key, has no meaning but identifies rows uniquely\n",
    "* drugOffset - number of minutes from unit admit time that the admission drug was administered\n",
    "* drugEnteredOffset - number of minutes from unit admit time that the admission drug was entered\n",
    "* drugNoteType - unique note picklist types e.g.: Comprehensive Progress Admission Intubation\n",
    "* specialtyType - physician specialty picklist types e.g.: anesthesiology gastroenterology oncology\n",
    "* userType - who documented the drug from eCareManager user picklist types e.g.: eICU Physician, Nurse, Attending Physician\n",
    "* rxincluded - Does the Note have associated Rx data: True or False\n",
    "* writtenIneICU - Was the Note written in the eICU: True or False\n",
    "* drugName - name of the selected admission drug e.g.: POTASSIUM CHLORIDE/D5NS METAXALONE PRAVACHOL\n",
    "* drugDosage - dosage of the admission drug e.g.: 20.0000 400.000\n",
    "* drugUnit - picklist units of the admission drug e.g.: mg mg/kg patch\n",
    "* drugAdmitFrequency - picklist frequency with which the admission drug is administred e.g.: PRN twice a day at bedtime\n",
    "* drughiclseqno - a code representing the drug (hierarchical ingredient code list, HICL)\n",
    "\n",
    "We recommend configuring the `config.ini` file to allow for connection to the database without specifying your password each time."
   ]
  },
  {
   "cell_type": "code",
   "execution_count": 1,
   "metadata": {},
   "outputs": [
    {
     "name": "stderr",
     "output_type": "stream",
     "text": [
      "/home/alistairewj/.local/lib/python3.5/site-packages/psycopg2/__init__.py:144: UserWarning: The psycopg2 wheel package will be renamed from release 2.8; in order to keep installing from binary please use \"pip install psycopg2-binary\" instead. For details see: <http://initd.org/psycopg/docs/install.html#binary-install-from-pypi>.\n",
      "  \"\"\")\n"
     ]
    }
   ],
   "source": [
    "# Import libraries\n",
    "import numpy as np\n",
    "import pandas as pd\n",
    "import matplotlib.pyplot as plt\n",
    "import psycopg2\n",
    "import getpass\n",
    "\n",
    "# for configuring connection \n",
    "from configobj import ConfigObj\n",
    "import os\n",
    "\n",
    "%matplotlib inline"
   ]
  },
  {
   "cell_type": "code",
   "execution_count": 2,
   "metadata": {},
   "outputs": [
    {
     "name": "stdout",
     "output_type": "stream",
     "text": [
      "Database: eicu\n",
      "Username: alistairewj\n"
     ]
    }
   ],
   "source": [
    "# Create a database connection using settings from config file\n",
    "config='../db/config.ini'\n",
    "\n",
    "# connection info\n",
    "conn_info = dict()\n",
    "if os.path.isfile(config):\n",
    "    config = ConfigObj(config)\n",
    "    conn_info[\"sqluser\"] = config['username']\n",
    "    conn_info[\"sqlpass\"] = config['password']\n",
    "    conn_info[\"sqlhost\"] = config['host']\n",
    "    conn_info[\"sqlport\"] = config['port']\n",
    "    conn_info[\"dbname\"] = config['dbname']\n",
    "    conn_info[\"schema_name\"] = config['schema_name']\n",
    "else:\n",
    "    conn_info[\"sqluser\"] = 'postgres'\n",
    "    conn_info[\"sqlpass\"] = ''\n",
    "    conn_info[\"sqlhost\"] = 'localhost'\n",
    "    conn_info[\"sqlport\"] = 5432\n",
    "    conn_info[\"dbname\"] = 'eicu'\n",
    "    conn_info[\"schema_name\"] = 'public,eicu_crd'\n",
    "    \n",
    "# Connect to the eICU database\n",
    "print('Database: {}'.format(conn_info['dbname']))\n",
    "print('Username: {}'.format(conn_info[\"sqluser\"]))\n",
    "if conn_info[\"sqlpass\"] == '':\n",
    "    # try connecting without password, i.e. peer or OS authentication\n",
    "    try:\n",
    "        if (conn_info[\"sqlhost\"] == 'localhost') & (conn_info[\"sqlport\"]=='5432'):\n",
    "            con = psycopg2.connect(dbname=conn_info[\"dbname\"],\n",
    "                                   user=conn_info[\"sqluser\"])            \n",
    "        else:\n",
    "            con = psycopg2.connect(dbname=conn_info[\"dbname\"],\n",
    "                                   host=conn_info[\"sqlhost\"],\n",
    "                                   port=conn_info[\"sqlport\"],\n",
    "                                   user=conn_info[\"sqluser\"])\n",
    "    except:\n",
    "        conn_info[\"sqlpass\"] = getpass.getpass('Password: ')\n",
    "\n",
    "        con = psycopg2.connect(dbname=conn_info[\"dbname\"],\n",
    "                               host=conn_info[\"sqlhost\"],\n",
    "                               port=conn_info[\"sqlport\"],\n",
    "                               user=conn_info[\"sqluser\"],\n",
    "                               password=conn_info[\"sqlpass\"])\n",
    "query_schema = 'set search_path to ' + conn_info['schema_name'] + ';'"
   ]
  },
  {
   "cell_type": "markdown",
   "metadata": {},
   "source": [
    "## Examine a single patient"
   ]
  },
  {
   "cell_type": "code",
   "execution_count": 3,
   "metadata": {},
   "outputs": [],
   "source": [
    "patientunitstayid = 2704494"
   ]
  },
  {
   "cell_type": "code",
   "execution_count": 4,
   "metadata": {
    "scrolled": true
   },
   "outputs": [
    {
     "data": {
      "text/html": [
       "<div>\n",
       "<style scoped>\n",
       "    .dataframe tbody tr th:only-of-type {\n",
       "        vertical-align: middle;\n",
       "    }\n",
       "\n",
       "    .dataframe tbody tr th {\n",
       "        vertical-align: top;\n",
       "    }\n",
       "\n",
       "    .dataframe thead th {\n",
       "        text-align: right;\n",
       "    }\n",
       "</style>\n",
       "<table border=\"1\" class=\"dataframe\">\n",
       "  <thead>\n",
       "    <tr style=\"text-align: right;\">\n",
       "      <th></th>\n",
       "      <th>admissiondrugid</th>\n",
       "      <th>patientunitstayid</th>\n",
       "      <th>drugyear</th>\n",
       "      <th>drugtime24</th>\n",
       "      <th>drugtime</th>\n",
       "      <th>drugoffset</th>\n",
       "      <th>drugenteredyear</th>\n",
       "      <th>drugenteredtime24</th>\n",
       "      <th>drugenteredtime</th>\n",
       "      <th>drugenteredoffset</th>\n",
       "      <th>drugnotetype</th>\n",
       "      <th>specialtytype</th>\n",
       "      <th>usertype</th>\n",
       "      <th>rxincluded</th>\n",
       "      <th>writtenineicu</th>\n",
       "      <th>drugname</th>\n",
       "      <th>drugdosage</th>\n",
       "      <th>drugunit</th>\n",
       "      <th>drugadmitfrequency</th>\n",
       "      <th>drughiclseqno</th>\n",
       "    </tr>\n",
       "  </thead>\n",
       "  <tbody>\n",
       "    <tr>\n",
       "      <th>0</th>\n",
       "      <td>13383114</td>\n",
       "      <td>2704494</td>\n",
       "      <td>2014</td>\n",
       "      <td>16:13:00</td>\n",
       "      <td>evening</td>\n",
       "      <td>-87132</td>\n",
       "      <td>2014</td>\n",
       "      <td>16:18:46</td>\n",
       "      <td>evening</td>\n",
       "      <td>2153</td>\n",
       "      <td>Comprehensive Progress</td>\n",
       "      <td>eCM Primary</td>\n",
       "      <td>THC Physician</td>\n",
       "      <td>True</td>\n",
       "      <td>False</td>\n",
       "      <td>IMDUR</td>\n",
       "      <td>0.0</td>\n",
       "      <td></td>\n",
       "      <td></td>\n",
       "      <td>6341</td>\n",
       "    </tr>\n",
       "    <tr>\n",
       "      <th>1</th>\n",
       "      <td>13383119</td>\n",
       "      <td>2704494</td>\n",
       "      <td>2014</td>\n",
       "      <td>16:13:00</td>\n",
       "      <td>evening</td>\n",
       "      <td>-87132</td>\n",
       "      <td>2014</td>\n",
       "      <td>16:18:46</td>\n",
       "      <td>evening</td>\n",
       "      <td>2153</td>\n",
       "      <td>Comprehensive Progress</td>\n",
       "      <td>eCM Primary</td>\n",
       "      <td>THC Physician</td>\n",
       "      <td>True</td>\n",
       "      <td>False</td>\n",
       "      <td>ZAROXOLYN</td>\n",
       "      <td>0.0</td>\n",
       "      <td></td>\n",
       "      <td></td>\n",
       "      <td>3663</td>\n",
       "    </tr>\n",
       "    <tr>\n",
       "      <th>2</th>\n",
       "      <td>13383112</td>\n",
       "      <td>2704494</td>\n",
       "      <td>2014</td>\n",
       "      <td>16:13:00</td>\n",
       "      <td>evening</td>\n",
       "      <td>-87132</td>\n",
       "      <td>2014</td>\n",
       "      <td>16:18:46</td>\n",
       "      <td>evening</td>\n",
       "      <td>2153</td>\n",
       "      <td>Comprehensive Progress</td>\n",
       "      <td>eCM Primary</td>\n",
       "      <td>THC Physician</td>\n",
       "      <td>True</td>\n",
       "      <td>False</td>\n",
       "      <td>EXEMESTANE</td>\n",
       "      <td>0.0</td>\n",
       "      <td></td>\n",
       "      <td></td>\n",
       "      <td>20803</td>\n",
       "    </tr>\n",
       "    <tr>\n",
       "      <th>3</th>\n",
       "      <td>13383111</td>\n",
       "      <td>2704494</td>\n",
       "      <td>2014</td>\n",
       "      <td>16:13:00</td>\n",
       "      <td>evening</td>\n",
       "      <td>-87132</td>\n",
       "      <td>2014</td>\n",
       "      <td>16:18:46</td>\n",
       "      <td>evening</td>\n",
       "      <td>2153</td>\n",
       "      <td>Comprehensive Progress</td>\n",
       "      <td>eCM Primary</td>\n",
       "      <td>THC Physician</td>\n",
       "      <td>True</td>\n",
       "      <td>False</td>\n",
       "      <td>COREG</td>\n",
       "      <td>0.0</td>\n",
       "      <td></td>\n",
       "      <td></td>\n",
       "      <td>13795</td>\n",
       "    </tr>\n",
       "    <tr>\n",
       "      <th>4</th>\n",
       "      <td>13383116</td>\n",
       "      <td>2704494</td>\n",
       "      <td>2014</td>\n",
       "      <td>16:13:00</td>\n",
       "      <td>evening</td>\n",
       "      <td>-87132</td>\n",
       "      <td>2014</td>\n",
       "      <td>16:18:46</td>\n",
       "      <td>evening</td>\n",
       "      <td>2153</td>\n",
       "      <td>Comprehensive Progress</td>\n",
       "      <td>eCM Primary</td>\n",
       "      <td>THC Physician</td>\n",
       "      <td>True</td>\n",
       "      <td>False</td>\n",
       "      <td>PROTONIX</td>\n",
       "      <td>0.0</td>\n",
       "      <td></td>\n",
       "      <td></td>\n",
       "      <td>22008</td>\n",
       "    </tr>\n",
       "  </tbody>\n",
       "</table>\n",
       "</div>"
      ],
      "text/plain": [
       "   admissiondrugid  patientunitstayid  drugyear drugtime24 drugtime  \\\n",
       "0         13383114            2704494      2014   16:13:00  evening   \n",
       "1         13383119            2704494      2014   16:13:00  evening   \n",
       "2         13383112            2704494      2014   16:13:00  evening   \n",
       "3         13383111            2704494      2014   16:13:00  evening   \n",
       "4         13383116            2704494      2014   16:13:00  evening   \n",
       "\n",
       "   drugoffset  drugenteredyear drugenteredtime24 drugenteredtime  \\\n",
       "0      -87132             2014          16:18:46         evening   \n",
       "1      -87132             2014          16:18:46         evening   \n",
       "2      -87132             2014          16:18:46         evening   \n",
       "3      -87132             2014          16:18:46         evening   \n",
       "4      -87132             2014          16:18:46         evening   \n",
       "\n",
       "   drugenteredoffset            drugnotetype specialtytype       usertype  \\\n",
       "0               2153  Comprehensive Progress   eCM Primary  THC Physician   \n",
       "1               2153  Comprehensive Progress   eCM Primary  THC Physician   \n",
       "2               2153  Comprehensive Progress   eCM Primary  THC Physician   \n",
       "3               2153  Comprehensive Progress   eCM Primary  THC Physician   \n",
       "4               2153  Comprehensive Progress   eCM Primary  THC Physician   \n",
       "\n",
       "  rxincluded writtenineicu    drugname  drugdosage drugunit  \\\n",
       "0       True         False       IMDUR         0.0            \n",
       "1       True         False   ZAROXOLYN         0.0            \n",
       "2       True         False  EXEMESTANE         0.0            \n",
       "3       True         False       COREG         0.0            \n",
       "4       True         False    PROTONIX         0.0            \n",
       "\n",
       "  drugadmitfrequency  drughiclseqno  \n",
       "0                              6341  \n",
       "1                              3663  \n",
       "2                             20803  \n",
       "3                             13795  \n",
       "4                             22008  "
      ]
     },
     "execution_count": 4,
     "metadata": {},
     "output_type": "execute_result"
    }
   ],
   "source": [
    "query = query_schema + \"\"\"\n",
    "select *\n",
    "from admissiondrug\n",
    "where patientunitstayid = {}\n",
    "order by drugoffset\n",
    "\"\"\".format(patientunitstayid)\n",
    "\n",
    "df = pd.read_sql_query(query, con)\n",
    "df.head()"
   ]
  },
  {
   "cell_type": "code",
   "execution_count": 5,
   "metadata": {},
   "outputs": [
    {
     "data": {
      "text/html": [
       "<div>\n",
       "<style scoped>\n",
       "    .dataframe tbody tr th:only-of-type {\n",
       "        vertical-align: middle;\n",
       "    }\n",
       "\n",
       "    .dataframe tbody tr th {\n",
       "        vertical-align: top;\n",
       "    }\n",
       "\n",
       "    .dataframe thead th {\n",
       "        text-align: right;\n",
       "    }\n",
       "</style>\n",
       "<table border=\"1\" class=\"dataframe\">\n",
       "  <thead>\n",
       "    <tr style=\"text-align: right;\">\n",
       "      <th></th>\n",
       "      <th>admissiondrugid</th>\n",
       "      <th>patientunitstayid</th>\n",
       "      <th>drugoffset</th>\n",
       "      <th>drugenteredoffset</th>\n",
       "      <th>drugname</th>\n",
       "      <th>drughiclseqno</th>\n",
       "    </tr>\n",
       "  </thead>\n",
       "  <tbody>\n",
       "    <tr>\n",
       "      <th>0</th>\n",
       "      <td>13383114</td>\n",
       "      <td>2704494</td>\n",
       "      <td>-87132</td>\n",
       "      <td>2153</td>\n",
       "      <td>IMDUR</td>\n",
       "      <td>6341</td>\n",
       "    </tr>\n",
       "    <tr>\n",
       "      <th>1</th>\n",
       "      <td>13383119</td>\n",
       "      <td>2704494</td>\n",
       "      <td>-87132</td>\n",
       "      <td>2153</td>\n",
       "      <td>ZAROXOLYN</td>\n",
       "      <td>3663</td>\n",
       "    </tr>\n",
       "    <tr>\n",
       "      <th>2</th>\n",
       "      <td>13383112</td>\n",
       "      <td>2704494</td>\n",
       "      <td>-87132</td>\n",
       "      <td>2153</td>\n",
       "      <td>EXEMESTANE</td>\n",
       "      <td>20803</td>\n",
       "    </tr>\n",
       "    <tr>\n",
       "      <th>3</th>\n",
       "      <td>13383111</td>\n",
       "      <td>2704494</td>\n",
       "      <td>-87132</td>\n",
       "      <td>2153</td>\n",
       "      <td>COREG</td>\n",
       "      <td>13795</td>\n",
       "    </tr>\n",
       "    <tr>\n",
       "      <th>4</th>\n",
       "      <td>13383116</td>\n",
       "      <td>2704494</td>\n",
       "      <td>-87132</td>\n",
       "      <td>2153</td>\n",
       "      <td>PROTONIX</td>\n",
       "      <td>22008</td>\n",
       "    </tr>\n",
       "  </tbody>\n",
       "</table>\n",
       "</div>"
      ],
      "text/plain": [
       "   admissiondrugid  patientunitstayid  drugoffset  drugenteredoffset  \\\n",
       "0         13383114            2704494      -87132               2153   \n",
       "1         13383119            2704494      -87132               2153   \n",
       "2         13383112            2704494      -87132               2153   \n",
       "3         13383111            2704494      -87132               2153   \n",
       "4         13383116            2704494      -87132               2153   \n",
       "\n",
       "     drugname  drughiclseqno  \n",
       "0       IMDUR           6341  \n",
       "1   ZAROXOLYN           3663  \n",
       "2  EXEMESTANE          20803  \n",
       "3       COREG          13795  \n",
       "4    PROTONIX          22008  "
      ]
     },
     "execution_count": 5,
     "metadata": {},
     "output_type": "execute_result"
    }
   ],
   "source": [
    "# Look at a subset of columns\n",
    "cols = ['admissiondrugid','patientunitstayid','drugoffset','drugenteredoffset','drugname','drughiclseqno']\n",
    "df[cols].head()"
   ]
  },
  {
   "cell_type": "markdown",
   "metadata": {},
   "source": [
    "Here we can see that these drugs were documented 2153 minutes (1.5 days) after ICU admission, but administered 87132 minutes (60 days) *before* ICU admission (thus, the negative offset). Since it's reasonable to assume the patient is still taking the drug (as this is the admissiondrug table), `drugoffset` can likely be treated as a start time for a prescription of the drug."
   ]
  },
  {
   "cell_type": "markdown",
   "metadata": {},
   "source": [
    "## Identifying patients admitted on a single drug"
   ]
  },
  {
   "cell_type": "markdown",
   "metadata": {},
   "source": [
    "Let's look for patients who were admitted on Zaroxolyn."
   ]
  },
  {
   "cell_type": "code",
   "execution_count": 6,
   "metadata": {},
   "outputs": [
    {
     "name": "stdout",
     "output_type": "stream",
     "text": [
      "227 unit stays with ZAROXOLYN.\n"
     ]
    }
   ],
   "source": [
    "drug = 'ZAROXOLYN'\n",
    "query = query_schema + \"\"\"\n",
    "select \n",
    "  admissiondrugid, patientunitstayid\n",
    "  , drugoffset, drugenteredoffset\n",
    "  , drugname, drughiclseqno\n",
    "from admissiondrug\n",
    "where drugname = '{}'\n",
    "\"\"\".format(drug)\n",
    "\n",
    "df_drug = pd.read_sql_query(query, con)\n",
    "df_drug.set_index('admissiondrugid',inplace=True)\n",
    "print('{} unit stays with {}.'.format(df_drug['patientunitstayid'].nunique(), drug))"
   ]
  },
  {
   "cell_type": "markdown",
   "metadata": {},
   "source": [
    "Instead of using the drug name, we could try to use the HICL code."
   ]
  },
  {
   "cell_type": "code",
   "execution_count": 7,
   "metadata": {},
   "outputs": [
    {
     "name": "stdout",
     "output_type": "stream",
     "text": [
      "533 unit stays with HICL = 3663.\n"
     ]
    }
   ],
   "source": [
    "hicl = 3663\n",
    "query = query_schema + \"\"\"\n",
    "select \n",
    "  admissiondrugid, patientunitstayid\n",
    "  , drugoffset, drugenteredoffset\n",
    "  , drugname, drughiclseqno\n",
    "from admissiondrug\n",
    "where drughiclseqno = {}\n",
    "\"\"\".format(hicl)\n",
    "\n",
    "df_hicl = pd.read_sql_query(query, con)\n",
    "df_hicl.set_index('admissiondrugid',inplace=True)\n",
    "\n",
    "print('{} unit stays with HICL = {}.'.format(df_hicl['patientunitstayid'].nunique(), hicl))"
   ]
  },
  {
   "cell_type": "markdown",
   "metadata": {},
   "source": [
    "As we can see, using the HICL returned many more observations. Let's take a look at a few:"
   ]
  },
  {
   "cell_type": "code",
   "execution_count": 8,
   "metadata": {},
   "outputs": [
    {
     "data": {
      "text/plain": [
       "METOLAZONE    767\n",
       "Name: drugname, dtype: int64"
      ]
     },
     "execution_count": 8,
     "metadata": {},
     "output_type": "execute_result"
    }
   ],
   "source": [
    "# rows in HICL which are *not* in the drug dataframe\n",
    "idx = ~df_hicl.index.isin(df_drug.index)\n",
    "# count the drug names\n",
    "df_hicl.loc[idx, 'drugname'].value_counts()"
   ]
  },
  {
   "cell_type": "markdown",
   "metadata": {},
   "source": [
    "All the rows use the drug name \"Metolazone\". Metolazone is the generic name for the brand Zaroxolyn. This demonstrates the utility of using HICL codes to identify drugs - synonyms like these are very common and can be tedious to find."
   ]
  },
  {
   "cell_type": "markdown",
   "metadata": {},
   "source": [
    "## Hospitals with data available"
   ]
  },
  {
   "cell_type": "code",
   "execution_count": 9,
   "metadata": {},
   "outputs": [
    {
     "data": {
      "text/html": [
       "<div>\n",
       "<style scoped>\n",
       "    .dataframe tbody tr th:only-of-type {\n",
       "        vertical-align: middle;\n",
       "    }\n",
       "\n",
       "    .dataframe tbody tr th {\n",
       "        vertical-align: top;\n",
       "    }\n",
       "\n",
       "    .dataframe thead th {\n",
       "        text-align: right;\n",
       "    }\n",
       "</style>\n",
       "<table border=\"1\" class=\"dataframe\">\n",
       "  <thead>\n",
       "    <tr style=\"text-align: right;\">\n",
       "      <th></th>\n",
       "      <th>hospitalid</th>\n",
       "      <th>number_of_patients</th>\n",
       "      <th>number_of_patients_with_admdrug</th>\n",
       "      <th>data completion</th>\n",
       "    </tr>\n",
       "  </thead>\n",
       "  <tbody>\n",
       "    <tr>\n",
       "      <th>165</th>\n",
       "      <td>420</td>\n",
       "      <td>342170</td>\n",
       "      <td>341168</td>\n",
       "      <td>99.707163</td>\n",
       "    </tr>\n",
       "    <tr>\n",
       "      <th>127</th>\n",
       "      <td>142</td>\n",
       "      <td>33887</td>\n",
       "      <td>33003</td>\n",
       "      <td>97.391330</td>\n",
       "    </tr>\n",
       "    <tr>\n",
       "      <th>90</th>\n",
       "      <td>382</td>\n",
       "      <td>29047</td>\n",
       "      <td>28871</td>\n",
       "      <td>99.394085</td>\n",
       "    </tr>\n",
       "    <tr>\n",
       "      <th>84</th>\n",
       "      <td>365</td>\n",
       "      <td>25941</td>\n",
       "      <td>25735</td>\n",
       "      <td>99.205890</td>\n",
       "    </tr>\n",
       "    <tr>\n",
       "      <th>94</th>\n",
       "      <td>281</td>\n",
       "      <td>25564</td>\n",
       "      <td>25092</td>\n",
       "      <td>98.153654</td>\n",
       "    </tr>\n",
       "    <tr>\n",
       "      <th>16</th>\n",
       "      <td>391</td>\n",
       "      <td>22992</td>\n",
       "      <td>22840</td>\n",
       "      <td>99.338900</td>\n",
       "    </tr>\n",
       "    <tr>\n",
       "      <th>180</th>\n",
       "      <td>394</td>\n",
       "      <td>23574</td>\n",
       "      <td>22485</td>\n",
       "      <td>95.380504</td>\n",
       "    </tr>\n",
       "    <tr>\n",
       "      <th>139</th>\n",
       "      <td>440</td>\n",
       "      <td>23644</td>\n",
       "      <td>22343</td>\n",
       "      <td>94.497547</td>\n",
       "    </tr>\n",
       "    <tr>\n",
       "      <th>187</th>\n",
       "      <td>283</td>\n",
       "      <td>20045</td>\n",
       "      <td>19724</td>\n",
       "      <td>98.398603</td>\n",
       "    </tr>\n",
       "    <tr>\n",
       "      <th>166</th>\n",
       "      <td>443</td>\n",
       "      <td>20072</td>\n",
       "      <td>18666</td>\n",
       "      <td>92.995217</td>\n",
       "    </tr>\n",
       "  </tbody>\n",
       "</table>\n",
       "</div>"
      ],
      "text/plain": [
       "     hospitalid  number_of_patients  number_of_patients_with_admdrug  \\\n",
       "165         420              342170                           341168   \n",
       "127         142               33887                            33003   \n",
       "90          382               29047                            28871   \n",
       "84          365               25941                            25735   \n",
       "94          281               25564                            25092   \n",
       "16          391               22992                            22840   \n",
       "180         394               23574                            22485   \n",
       "139         440               23644                            22343   \n",
       "187         283               20045                            19724   \n",
       "166         443               20072                            18666   \n",
       "\n",
       "     data completion  \n",
       "165        99.707163  \n",
       "127        97.391330  \n",
       "90         99.394085  \n",
       "84         99.205890  \n",
       "94         98.153654  \n",
       "16         99.338900  \n",
       "180        95.380504  \n",
       "139        94.497547  \n",
       "187        98.398603  \n",
       "166        92.995217  "
      ]
     },
     "execution_count": 9,
     "metadata": {},
     "output_type": "execute_result"
    }
   ],
   "source": [
    "query = query_schema + \"\"\"\n",
    "select \n",
    "  pt.hospitalid\n",
    "  , count(pt.patientunitstayid) as number_of_patients\n",
    "  , count(ad.patientunitstayid) as number_of_patients_with_admdrug\n",
    "from patient pt\n",
    "left join admissiondrug ad\n",
    "  on pt.patientunitstayid = ad.patientunitstayid\n",
    "group by pt.hospitalid\n",
    "\"\"\".format(patientunitstayid)\n",
    "\n",
    "df = pd.read_sql_query(query, con)\n",
    "df['data completion'] = df['number_of_patients_with_admdrug'] / df['number_of_patients'] * 100.0\n",
    "df.sort_values('number_of_patients_with_admdrug', ascending=False, inplace=True)\n",
    "df.head(n=10)"
   ]
  },
  {
   "cell_type": "code",
   "execution_count": 11,
   "metadata": {},
   "outputs": [
    {
     "data": {
      "image/png": "[encoded data removed]",
      "text/plain": [
       "<matplotlib.figure.Figure at 0x7fd2d256b6a0>"
      ]
     },
     "metadata": {},
     "output_type": "display_data"
    }
   ],
   "source": [
    "plt.figure(figsize=[10,6])\n",
    "plt.hist(df['data completion'], bins=np.linspace(0, 100, 10))\n",
    "plt.xlabel('Percent of patients with data in admissiondrug')\n",
    "plt.ylabel('Number of hospitals')\n",
    "plt.show()"
   ]
  },
  {
   "cell_type": "markdown",
   "metadata": {},
   "source": [
    "As is common in eICU-CRD, there are a subset of hospitals who routinely utilize this portion of the medical record (and thus have 90-100% data completion), while there are other hospitals who rarely use this interface and thus have poor data completion (0-10%)."
   ]
  }
 ],
 "metadata": {
  "kernelspec": {
   "display_name": "Python 3",
   "language": "python",
   "name": "python3"
  },
  "language_info": {
   "codemirror_mode": {
    "name": "ipython",
    "version": 3
   },
   "file_extension": ".py",
   "mimetype": "text/x-python",
   "name": "python",
   "nbconvert_exporter": "python",
   "pygments_lexer": "ipython3",
   "version": "3.5.2"
  }
 },
 "nbformat": 4,
 "nbformat_minor": 2
}
